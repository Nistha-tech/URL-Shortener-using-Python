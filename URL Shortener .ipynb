{
 "cells": [
  {
   "cell_type": "code",
   "execution_count": 5,
   "metadata": {},
   "outputs": [
    {
     "name": "stdout",
     "output_type": "stream",
     "text": [
      "http://tinyurl.com/yc6jtuyf\n"
     ]
    },
    {
     "data": {
      "text/plain": [
       "'\\n Output:- We got\"http://tinyurl.com/y83ucnd4\"\\n'"
      ]
     },
     "execution_count": 5,
     "metadata": {},
     "output_type": "execute_result"
    }
   ],
   "source": [
    "from urllib.request import urlopen\n",
    "from urllib.parse import urlencode\n",
    "import contextlib\n",
    "\n",
    "def make_url_short(url):\n",
    "    request_url = ('http://tinyurl.com/api-create.php?' + urlencode({'url': url}))\n",
    "    with contextlib.closing(urlopen(request_url)) as response:\n",
    "        return response.read().decode('utf-8 ')\n",
    "\n",
    "shorten_url = make_url_short(\"https://www.linkedin.com/in/nistha-gupta-611a21190/\")\n",
    "print(shorten_url)\n",
    "\n",
    "'''\n",
    " Output:- We got\"http://tinyurl.com/y83ucnd4\"\n",
    "'''"
   ]
  },
  {
   "cell_type": "code",
   "execution_count": null,
   "metadata": {},
   "outputs": [],
   "source": []
  }
 ],
 "metadata": {
  "kernelspec": {
   "display_name": "Python 3",
   "language": "python",
   "name": "python3"
  },
  "language_info": {
   "codemirror_mode": {
    "name": "ipython",
    "version": 3
   },
   "file_extension": ".py",
   "mimetype": "text/x-python",
   "name": "python",
   "nbconvert_exporter": "python",
   "pygments_lexer": "ipython3",
   "version": "3.7.3"
  }
 },
 "nbformat": 4,
 "nbformat_minor": 2
}
